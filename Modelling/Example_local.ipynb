{
 "cells": [
  {
   "cell_type": "code",
   "execution_count": 1,
   "metadata": {},
   "outputs": [],
   "source": [
    "import mlflow\n",
    "import mlflow.sklearn\n",
    "from sklearn.ensemble import RandomForestClassifier\n",
    "from sklearn.model_selection import train_test_split\n",
    "from sklearn.metrics import accuracy_score\n",
    "import boto3\n",
    "import pandas as pd\n",
    "from dotenv import load_dotenv\n",
    "import os"
   ]
  },
  {
   "cell_type": "code",
   "execution_count": 2,
   "metadata": {},
   "outputs": [],
   "source": [
    "load_dotenv()\n",
    "\n",
    "access_key = os.getenv(\"AWS_ACCESS_KEY_ID\")\n",
    "secret_key = os.getenv(\"AWS_SECRET_ACCESS_KEY\")\n",
    "s3_url = os.getenv(\"S3_URL\")\n",
    "tracker_url = os.getenv(\"MLFLOW_URL\")\n",
    "bucket_name = \"dataset\"\n",
    "object_name = \"Iris.csv\""
   ]
  },
  {
   "cell_type": "code",
   "execution_count": 3,
   "metadata": {},
   "outputs": [],
   "source": [
    "s3 = boto3.client(\n",
    "    's3',\n",
    "    endpoint_url=\"http://localhost:443\",\n",
    "    aws_access_key_id=access_key,\n",
    "    aws_secret_access_key=secret_key,\n",
    ")"
   ]
  },
  {
   "cell_type": "code",
   "execution_count": 4,
   "metadata": {},
   "outputs": [
    {
     "name": "stdout",
     "output_type": "stream",
     "text": [
      "http://localhost:443\n"
     ]
    }
   ],
   "source": [
    "oke = os.getenv(\"MLFLOW_S3_ENDPOINT_URL\")\n",
    "print(oke)"
   ]
  },
  {
   "cell_type": "code",
   "execution_count": 5,
   "metadata": {},
   "outputs": [
    {
     "name": "stdout",
     "output_type": "stream",
     "text": [
      "<botocore.response.StreamingBody object at 0x1541cc640>\n",
      "Dataset loaded successfully:\n",
      "   Id  SepalLengthCm  SepalWidthCm  PetalLengthCm  PetalWidthCm      Species\n",
      "0   1            5.1           3.5            1.4           0.2  Iris-setosa\n",
      "1   2            4.9           3.0            1.4           0.2  Iris-setosa\n",
      "2   3            4.7           3.2            1.3           0.2  Iris-setosa\n",
      "3   4            4.6           3.1            1.5           0.2  Iris-setosa\n",
      "4   5            5.0           3.6            1.4           0.2  Iris-setosa\n"
     ]
    }
   ],
   "source": [
    "try:\n",
    "    response = s3.get_object(Bucket=bucket_name, Key=object_name)\n",
    "    dataset_content = response.get('Body')\n",
    "    print(dataset_content)\n",
    "    # Load the dataset into a DataFrame\n",
    "    df = pd.read_csv(dataset_content)\n",
    "    print(\"Dataset loaded successfully:\")\n",
    "    print(df.head())\n",
    "except Exception as e:\n",
    "    print(\"Error fetching dataset from MinIO:\", e)\n"
   ]
  },
  {
   "cell_type": "code",
   "execution_count": 6,
   "metadata": {},
   "outputs": [],
   "source": [
    "mlflow.set_tracking_uri(\"http://localhost:5001\")\n",
    "experiment_name = \"test\"\n",
    "mlflow.set_experiment(experiment_name)\n",
    "\n",
    "data = df.drop('Species', axis=1)\n",
    "target = df['Species']\n",
    "X_train, X_test, y_train, y_test = train_test_split(data, target, test_size=0.2, random_state=42)"
   ]
  },
  {
   "cell_type": "code",
   "execution_count": 7,
   "metadata": {},
   "outputs": [
    {
     "name": "stderr",
     "output_type": "stream",
     "text": [
      "2024/11/10 02:38:57 WARNING mlflow.models.model: Model logged without a signature and input example. Please set `input_example` parameter when logging the model to auto infer the model signature.\n",
      "2024/11/10 02:38:57 INFO mlflow.tracking._tracking_service.client: 🏃 View run orderly-whale-978 at: http://localhost:5001/#/experiments/1/runs/96dfd2d9665c4a7c8699706821335d26.\n",
      "2024/11/10 02:38:57 INFO mlflow.tracking._tracking_service.client: 🧪 View experiment at: http://localhost:5001/#/experiments/1.\n"
     ]
    },
    {
     "name": "stdout",
     "output_type": "stream",
     "text": [
      "Run ID: 96dfd2d9665c4a7c8699706821335d26\n",
      "Model accuracy: 1.0\n"
     ]
    }
   ],
   "source": [
    "# Start an MLflow run\n",
    "with mlflow.start_run():\n",
    "    # Define model parameters\n",
    "    n_estimators = 100\n",
    "    max_depth = 5\n",
    "    random_state = 42\n",
    "\n",
    "    # Log parameters to MLflow\n",
    "    mlflow.log_param(\"n_estimators\", n_estimators)\n",
    "    mlflow.log_param(\"max_depth\", max_depth)\n",
    "    mlflow.log_param(\"random_state\", random_state)\n",
    "\n",
    "    # Train the model\n",
    "    model = RandomForestClassifier(n_estimators=n_estimators, max_depth=max_depth, random_state=random_state)\n",
    "    model.fit(X_train, y_train)\n",
    "\n",
    "    # Make predictions and calculate accuracy\n",
    "    predictions = model.predict(X_test)\n",
    "    accuracy = accuracy_score(y_test, predictions)\n",
    "\n",
    "    # Log metrics to MLflow\n",
    "    mlflow.log_metric(\"accuracy\", accuracy)\n",
    "\n",
    "    # Log the model artifact to MinIO via MLflow\n",
    "    mlflow.sklearn.log_model(model, \"model\")\n",
    "\n",
    "    # Print Run ID for reference\n",
    "    run_id = mlflow.active_run().info.run_id\n",
    "    print(f\"Run ID: {run_id}\")\n",
    "    print(f\"Model accuracy: {accuracy}\")\n"
   ]
  }
 ],
 "metadata": {
  "kernelspec": {
   "display_name": "MLOps",
   "language": "python",
   "name": "python3"
  },
  "language_info": {
   "codemirror_mode": {
    "name": "ipython",
    "version": 3
   },
   "file_extension": ".py",
   "mimetype": "text/x-python",
   "name": "python",
   "nbconvert_exporter": "python",
   "pygments_lexer": "ipython3",
   "version": "3.10.13"
  }
 },
 "nbformat": 4,
 "nbformat_minor": 2
}
