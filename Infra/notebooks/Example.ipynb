{
 "cells": [
  {
   "cell_type": "code",
   "execution_count": 2,
   "metadata": {},
   "outputs": [],
   "source": [
    "\n",
    "import mlflow\n",
    "import mlflow.sklearn\n",
    "from sklearn.ensemble import RandomForestClassifier\n",
    "from sklearn.model_selection import train_test_split\n",
    "from sklearn.metrics import accuracy_score\n",
    "# import boto3\n",
    "import pandas as pd\n",
    "from dotenv import load_dotenv\n",
    "import os\n",
    "from xgboost import XGBClassifier\n",
    "from sklearn.model_selection import cross_val_score\n",
    "import warnings\n",
    "import numpy as np\n",
    "from mlflow.models.signature import infer_signature\n",
    "import urllib3\n",
    "urllib3.disable_warnings(urllib3.exceptions.InsecureRequestWarning)"
   ]
  },
  {
   "cell_type": "code",
   "execution_count": 15,
   "metadata": {},
   "outputs": [],
   "source": [
    "load_dotenv()\n",
    "\n",
    "access_key = os.getenv(\"AWS_ACCESS_KEY_ID_CLIENT\")\n",
    "secret_key = os.getenv(\"AWS_SECRET_ACCESS_KEY_CLIENT\")\n",
    "s3_url = os.getenv(\"MLFLOW_S3_ENDPOINT_URL_CLIENT\")\n",
    "tracker_url = os.getenv(\"MLFLOW_URL_CLIENT\")\n",
    "os.environ[\"MLFLOW_S3_ENDPOINT_URL\"] = os.getenv(\"MLFLOW_S3_ENDPOINT_URL_CLIENT\")\n",
    "os.environ[\"MLFLOW_TRACKING_USERNAME\"] = os.getenv(\"MLFLOW_ADMIN_USERNAME_CLIENT\")\n",
    "os.environ[\"MLFLOW_TRACKING_PASSWORD\"] = os.getenv(\"MLFLOW_ADMIN_PASSWORD_CLIENT\")\n",
    "os.environ[\"MLFLOW_S3_IGNORE_TLS\"] = \"true\"\n",
    "os.environ[\"MLFLOW_ENABLE_SYSTEM_METRICS_LOGGING\"] = \"true\"\n",
    "bucket_name = \"dataset\"\n",
    "object_name = \"water_potability.csv\""
   ]
  },
  {
   "cell_type": "code",
   "execution_count": 16,
   "metadata": {},
   "outputs": [
    {
     "name": "stdout",
     "output_type": "stream",
     "text": [
      "https://10.34.4.242\n",
      "http://10.34.4.242\n",
      "member\n",
      "F96labjarkom\n"
     ]
    }
   ],
   "source": [
    "print(s3_url)\n",
    "print(tracker_url)\n",
    "print(access_key)\n",
    "print(secret_key)"
   ]
  },
  {
   "cell_type": "code",
   "execution_count": 17,
   "metadata": {},
   "outputs": [],
   "source": [
    "s3 = boto3.client(\n",
    "    's3',\n",
    "    endpoint_url=s3_url,\n",
    "    aws_access_key_id=access_key,\n",
    "    aws_secret_access_key=secret_key,\n",
    "    verify=False\n",
    ")"
   ]
  },
  {
   "cell_type": "code",
   "execution_count": 18,
   "metadata": {},
   "outputs": [
    {
     "name": "stdout",
     "output_type": "stream",
     "text": [
      "Connected successfully! Buckets available:\n",
      "- dataset\n",
      "- mlflow\n"
     ]
    }
   ],
   "source": [
    "try:\n",
    "    # Attempt to list buckets\n",
    "    response = s3.list_buckets()\n",
    "    \n",
    "    # If successful, print bucket names\n",
    "    print(\"Connected successfully! Buckets available:\")\n",
    "    for bucket in response['Buckets']:\n",
    "        print(f\"- {bucket['Name']}\")\n",
    "except Exception as e:\n",
    "    # Print any connection errors\n",
    "    print(\"Connection error:\", e)\n"
   ]
  },
  {
   "cell_type": "code",
   "execution_count": 19,
   "metadata": {},
   "outputs": [
    {
     "name": "stdout",
     "output_type": "stream",
     "text": [
      "{'ResponseMetadata': {'RequestId': '1816E336C980E23E', 'HostId': 'b675f5c02385af78c69266a96b22038bea3ecd7423814977a7267fd68ac2bbeb', 'HTTPStatusCode': 200, 'HTTPHeaders': {'accept-ranges': 'bytes', 'content-length': '525187', 'content-type': 'text/csv', 'etag': '\"a5eeae83d792e40da6c2f9e1eab945fc\"', 'last-modified': 'Thu, 02 Jan 2025 13:27:29 GMT', 'server': 'MinIO', 'strict-transport-security': 'max-age=31536000; includeSubDomains', 'vary': 'Origin, Accept-Encoding', 'x-amz-id-2': 'b675f5c02385af78c69266a96b22038bea3ecd7423814977a7267fd68ac2bbeb', 'x-amz-request-id': '1816E336C980E23E', 'x-content-type-options': 'nosniff', 'x-ratelimit-limit': '830', 'x-ratelimit-remaining': '830', 'x-xss-protection': '1; mode=block', 'x-amz-version-id': 'ec0e7df1-0564-498d-b08c-738edbf93673', 'date': 'Thu, 02 Jan 2025 13:28:50 GMT'}, 'RetryAttempts': 0}, 'AcceptRanges': 'bytes', 'LastModified': datetime.datetime(2025, 1, 2, 13, 27, 29, tzinfo=tzutc()), 'ContentLength': 525187, 'ETag': '\"a5eeae83d792e40da6c2f9e1eab945fc\"', 'VersionId': 'ec0e7df1-0564-498d-b08c-738edbf93673', 'ContentType': 'text/csv', 'Metadata': {}, 'Body': <botocore.response.StreamingBody object at 0x177ddef80>}\n",
      "<botocore.response.StreamingBody object at 0x177ddef80>\n",
      "Dataset loaded successfully:\n",
      "         ph    Hardness        Solids  Chloramines     Sulfate  Conductivity  \\\n",
      "0       NaN  204.890455  20791.318981     7.300212  368.516441    564.308654   \n",
      "1  3.716080  129.422921  18630.057858     6.635246         NaN    592.885359   \n",
      "2  8.099124  224.236259  19909.541732     9.275884         NaN    418.606213   \n",
      "3  8.316766  214.373394  22018.417441     8.059332  356.886136    363.266516   \n",
      "4  9.092223  181.101509  17978.986339     6.546600  310.135738    398.410813   \n",
      "\n",
      "   Organic_carbon  Trihalomethanes  Turbidity  Potability  \n",
      "0       10.379783        86.990970   2.963135           0  \n",
      "1       15.180013        56.329076   4.500656           0  \n",
      "2       16.868637        66.420093   3.055934           0  \n",
      "3       18.436524       100.341674   4.628771           0  \n",
      "4       11.558279        31.997993   4.075075           0  \n"
     ]
    }
   ],
   "source": [
    "try:\n",
    "    response = s3.get_object(Bucket=bucket_name, Key=object_name)\n",
    "    print(response)\n",
    "    dataset_content = response.get('Body')\n",
    "    print(dataset_content)\n",
    "    # Load the dataset into a DataFrame\n",
    "    df = pd.read_csv(dataset_content)\n",
    "    print(\"Dataset loaded successfully:\")\n",
    "    print(df.head())\n",
    "except Exception as e:\n",
    "    print(\"Error fetching dataset from MinIO:\", e)\n"
   ]
  },
  {
   "cell_type": "code",
   "execution_count": 20,
   "metadata": {},
   "outputs": [],
   "source": [
    "# df = df[['ph','Solids','Turbidity','Potability']]\n",
    "# df = df[['ph','Solids','Potability']]\n",
    "df = df[['ph','Potability']]"
   ]
  },
  {
   "cell_type": "code",
   "execution_count": 21,
   "metadata": {},
   "outputs": [
    {
     "name": "stderr",
     "output_type": "stream",
     "text": [
      "2025/01/02 20:28:51 INFO mlflow.tracking.fluent: Experiment with name 'water_potability' does not exist. Creating a new experiment.\n"
     ]
    }
   ],
   "source": [
    "mlflow.set_tracking_uri(tracker_url)\n",
    "experiment_name = \"water_potability\"\n",
    "mlflow.set_experiment(experiment_name)\n",
    "\n",
    "data = df.drop('Potability', axis=1)\n",
    "target = df['Potability']\n",
    "X_train, X_test, y_train, y_test = train_test_split(data, target, test_size=0.2, random_state=42)"
   ]
  },
  {
   "cell_type": "code",
   "execution_count": 22,
   "metadata": {},
   "outputs": [
    {
     "name": "stderr",
     "output_type": "stream",
     "text": [
      "2025/01/02 20:28:52 WARNING mlflow.system_metrics.system_metrics_monitor: Skip logging GPU metrics because creating `GPUMonitor` failed with error: Failed to initialize NVML, skip logging GPU metrics: NVML Shared Library Not Found.\n",
      "2025/01/02 20:28:52 INFO mlflow.system_metrics.system_metrics_monitor: Started monitoring system metrics.\n",
      "/Users/fauzanghaza/Applications/miniconda3/envs/MLOps/lib/python3.10/site-packages/xgboost/core.py:158: UserWarning: [20:28:53] WARNING: /Users/runner/miniforge3/conda-bld/xgboost-split_1733179641447/work/src/c_api/c_api.cc:1374: Saving model in the UBJSON format as default.  You can use file extension: `json`, `ubj` or `deprecated` to choose between formats.\n",
      "  warnings.warn(smsg, UserWarning)\n"
     ]
    },
    {
     "name": "stdout",
     "output_type": "stream",
     "text": [
      "Run ID: 6e7d467fa18145e7bb14a49b3cd349f0\n",
      "Model accuracy: 0.573170731707317\n",
      "🏃 View run secretive-pug-675 at: http://10.34.4.242/#/experiments/1/runs/6e7d467fa18145e7bb14a49b3cd349f0\n",
      "🧪 View experiment at: http://10.34.4.242/#/experiments/1\n"
     ]
    },
    {
     "name": "stderr",
     "output_type": "stream",
     "text": [
      "2025/01/02 20:28:59 INFO mlflow.system_metrics.system_metrics_monitor: Stopping system metrics monitoring...\n",
      "2025/01/02 20:28:59 INFO mlflow.system_metrics.system_metrics_monitor: Successfully terminated system metrics monitoring!\n"
     ]
    }
   ],
   "source": [
    "from mlflow.models.signature import infer_signature\n",
    "import mlflow.xgboost\n",
    "import numpy as np\n",
    "import pandas as pd\n",
    "from sklearn.metrics import accuracy_score\n",
    "from xgboost import XGBClassifier\n",
    "\n",
    "# Model parameters\n",
    "n_estimators = 100\n",
    "max_depth = 5\n",
    "random_state = 42\n",
    "\n",
    "with mlflow.start_run():\n",
    "    # Log parameters\n",
    "    mlflow.log_param(\"n_estimators\", n_estimators)\n",
    "    mlflow.log_param(\"max_depth\", max_depth)\n",
    "    mlflow.log_param(\"random_state\", random_state)\n",
    "\n",
    "    # Initialize and train the model\n",
    "    model = XGBClassifier(n_estimators=n_estimators, max_depth=max_depth, random_state=random_state)\n",
    "    model.fit(X_train, y_train)\n",
    "\n",
    "    # Evaluate the model\n",
    "    predictions = model.predict(X_test)\n",
    "    accuracy = accuracy_score(y_test, predictions)\n",
    "    mlflow.log_metric(\"accuracy\", accuracy)\n",
    "\n",
    "    # Define input example and signature\n",
    "    input_example = X_test.iloc[:1].fillna(X_test.mean())\n",
    "    signature = infer_signature(X_test, model.predict(X_test))\n",
    "\n",
    "    # Log the model with MLflow\n",
    "    mlflow.xgboost.log_model(\n",
    "        model,\n",
    "        artifact_path=\"model\",\n",
    "        input_example=input_example,\n",
    "        signature=signature\n",
    "    )\n",
    "\n",
    "    # Print run information\n",
    "    run_id = mlflow.active_run().info.run_id\n",
    "    print(f\"Run ID: {run_id}\")\n",
    "    print(f\"Model accuracy: {accuracy}\")\n"
   ]
  },
  {
   "cell_type": "code",
   "execution_count": 23,
   "metadata": {},
   "outputs": [
    {
     "name": "stderr",
     "output_type": "stream",
     "text": [
      "2025/01/02 20:28:59 WARNING mlflow.system_metrics.system_metrics_monitor: Skip logging GPU metrics because creating `GPUMonitor` failed with error: Failed to initialize NVML, skip logging GPU metrics: NVML Shared Library Not Found.\n",
      "2025/01/02 20:28:59 INFO mlflow.system_metrics.system_metrics_monitor: Started monitoring system metrics.\n"
     ]
    },
    {
     "name": "stdout",
     "output_type": "stream",
     "text": [
      "Run ID: 2336638c424a497895da17eb358dc388\n",
      "Model accuracy: 0.6234756097560976\n",
      "🏃 View run suave-ox-814 at: http://10.34.4.242/#/experiments/1/runs/2336638c424a497895da17eb358dc388\n",
      "🧪 View experiment at: http://10.34.4.242/#/experiments/1\n"
     ]
    },
    {
     "name": "stderr",
     "output_type": "stream",
     "text": [
      "2025/01/02 20:29:06 INFO mlflow.system_metrics.system_metrics_monitor: Stopping system metrics monitoring...\n",
      "2025/01/02 20:29:06 INFO mlflow.system_metrics.system_metrics_monitor: Successfully terminated system metrics monitoring!\n"
     ]
    }
   ],
   "source": [
    "from mlflow.models.signature import infer_signature\n",
    "import mlflow.xgboost\n",
    "import numpy as np\n",
    "import pandas as pd\n",
    "from sklearn.metrics import accuracy_score\n",
    "\n",
    "# Model parameters\n",
    "n_estimators = 100\n",
    "max_depth = 5\n",
    "random_state = 42\n",
    "\n",
    "with mlflow.start_run():\n",
    "    # Log parameters\n",
    "    mlflow.log_param(\"n_estimators\", n_estimators)\n",
    "    mlflow.log_param(\"max_depth\", max_depth)\n",
    "    mlflow.log_param(\"random_state\", random_state)\n",
    "\n",
    "    # Initialize and train the model\n",
    "    model = RandomForestClassifier(n_estimators=n_estimators, max_depth=max_depth, random_state=random_state)\n",
    "    model.fit(X_train, y_train)\n",
    "\n",
    "    # Evaluate the model\n",
    "    predictions = model.predict(X_test)\n",
    "    accuracy = accuracy_score(y_test, predictions)\n",
    "    mlflow.log_metric(\"accuracy\", accuracy)\n",
    "\n",
    "    # Define input example and signature\n",
    "    input_example = X_test.iloc[:1].fillna(X_test.mean())\n",
    "    signature = infer_signature(X_test, model.predict(X_test))\n",
    "\n",
    "    # Log the model with MLflow\n",
    "    mlflow.sklearn.log_model(\n",
    "        model,\n",
    "        artifact_path=\"model\",\n",
    "        input_example=input_example,\n",
    "        signature=signature\n",
    "    )\n",
    "\n",
    "    # Print run information\n",
    "    run_id = mlflow.active_run().info.run_id\n",
    "    print(f\"Run ID: {run_id}\")\n",
    "    print(f\"Model accuracy: {accuracy}\")\n"
   ]
  },
  {
   "cell_type": "code",
   "execution_count": 24,
   "metadata": {},
   "outputs": [
    {
     "name": "stderr",
     "output_type": "stream",
     "text": [
      "/Users/fauzanghaza/Applications/miniconda3/envs/MLOps/lib/python3.10/site-packages/tqdm/auto.py:21: TqdmWarning: IProgress not found. Please update jupyter and ipywidgets. See https://ipywidgets.readthedocs.io/en/stable/user_install.html\n",
      "  from .autonotebook import tqdm as notebook_tqdm\n",
      "Downloading artifacts: 100%|██████████| 7/7 [00:00<00:00, 14.24it/s]"
     ]
    },
    {
     "name": "stdout",
     "output_type": "stream",
     "text": [
      "Model signature: ['ph': double (optional), 'Solids': double (required)]\n"
     ]
    },
    {
     "name": "stderr",
     "output_type": "stream",
     "text": [
      "\n"
     ]
    }
   ],
   "source": [
    "import mlflow.pyfunc\n",
    "\n",
    "model_uri = f\"runs:/{run_id}/model\"\n",
    "model = mlflow.pyfunc.load_model(model_uri)\n",
    "\n",
    "# Check if metadata and signature are available\n",
    "if model.metadata:\n",
    "    print(\"Model signature:\", model.metadata.get_input_schema())\n",
    "else:\n",
    "    print(\"Model metadata is missing.\")"
   ]
  }
 ],
 "metadata": {
  "kernelspec": {
   "display_name": "MLOps",
   "language": "python",
   "name": "python3"
  },
  "language_info": {
   "codemirror_mode": {
    "name": "ipython",
    "version": 3
   },
   "file_extension": ".py",
   "mimetype": "text/x-python",
   "name": "python",
   "nbconvert_exporter": "python",
   "pygments_lexer": "ipython3",
   "version": "3.10.16"
  }
 },
 "nbformat": 4,
 "nbformat_minor": 2
}
