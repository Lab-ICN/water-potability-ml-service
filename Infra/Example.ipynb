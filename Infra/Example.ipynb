{
 "cells": [
  {
   "cell_type": "code",
   "execution_count": 11,
   "metadata": {},
   "outputs": [],
   "source": [
    "import mlflow\n",
    "import mlflow.sklearn\n",
    "from sklearn.ensemble import RandomForestClassifier\n",
    "from sklearn.model_selection import train_test_split\n",
    "from sklearn.metrics import accuracy_score\n",
    "import boto3\n",
    "import pandas as pd\n",
    "from dotenv import load_dotenv\n",
    "import os"
   ]
  },
  {
   "cell_type": "code",
   "execution_count": 12,
   "metadata": {},
   "outputs": [],
   "source": [
    "load_dotenv()\n",
    "\n",
    "access_key = os.getenv(\"AWS_ACCESS_KEY_ID\")\n",
    "secret_key = os.getenv(\"AWS_SECRET_ACCESS_KEY\")\n",
    "s3_url = os.getenv(\"MLFLOW_S3_ENDPOINT_URL\")\n",
    "tracker_url = os.getenv(\"MLFLOW_URL\")\n",
    "os.environ[\"MLFLOW_TRACKING_USERNAME\"] = os.getenv(\"MLFLOW_ADMIN_USERNAME\")\n",
    "os.environ[\"MLFLOW_TRACKING_PASSWORD\"] = os.getenv(\"MLFLOW_ADMIN_PASSWORD\")\n",
    "os.environ[\"MLFLOW_S3_IGNORE_TLS\"] = \"true\"\n",
    "bucket_name = \"dataset\"\n",
    "object_name = \"water_potability.csv\""
   ]
  },
  {
   "cell_type": "code",
   "execution_count": 13,
   "metadata": {},
   "outputs": [],
   "source": [
    "s3 = boto3.client(\n",
    "    's3',\n",
    "    endpoint_url=s3_url,\n",
    "    aws_access_key_id=access_key,\n",
    "    aws_secret_access_key=secret_key,\n",
    "    verify=False\n",
    ")"
   ]
  },
  {
   "cell_type": "code",
   "execution_count": 14,
   "metadata": {},
   "outputs": [
    {
     "name": "stdout",
     "output_type": "stream",
     "text": [
      "Connected successfully! Buckets available:\n",
      "- dataset\n",
      "- mlflow\n"
     ]
    },
    {
     "name": "stderr",
     "output_type": "stream",
     "text": [
      "/Users/fauzanghaza/Applications/miniconda3/envs/MLOps/lib/python3.10/site-packages/urllib3/connectionpool.py:1099: InsecureRequestWarning: Unverified HTTPS request is being made to host '10.34.4.198'. Adding certificate verification is strongly advised. See: https://urllib3.readthedocs.io/en/latest/advanced-usage.html#tls-warnings\n",
      "  warnings.warn(\n"
     ]
    }
   ],
   "source": [
    "try:\n",
    "    # Attempt to list buckets\n",
    "    response = s3.list_buckets()\n",
    "    \n",
    "    # If successful, print bucket names\n",
    "    print(\"Connected successfully! Buckets available:\")\n",
    "    for bucket in response['Buckets']:\n",
    "        print(f\"- {bucket['Name']}\")\n",
    "except Exception as e:\n",
    "    # Print any connection errors\n",
    "    print(\"Connection error:\", e)\n"
   ]
  },
  {
   "cell_type": "code",
   "execution_count": 15,
   "metadata": {},
   "outputs": [
    {
     "name": "stdout",
     "output_type": "stream",
     "text": [
      "{'ResponseMetadata': {'RequestId': '180727DEE580F31F', 'HostId': 'b675f5c02385af78c69266a96b22038bea3ecd7423814977a7267fd68ac2bbeb', 'HTTPStatusCode': 200, 'HTTPHeaders': {'accept-ranges': 'bytes', 'content-length': '525187', 'content-type': 'text/csv', 'etag': '\"a5eeae83d792e40da6c2f9e1eab945fc\"', 'last-modified': 'Tue, 12 Nov 2024 07:15:22 GMT', 'server': 'MinIO', 'strict-transport-security': 'max-age=31536000; includeSubDomains', 'vary': 'Origin, Accept-Encoding', 'x-amz-id-2': 'b675f5c02385af78c69266a96b22038bea3ecd7423814977a7267fd68ac2bbeb', 'x-amz-request-id': '180727DEE580F31F', 'x-content-type-options': 'nosniff', 'x-ratelimit-limit': '682', 'x-ratelimit-remaining': '682', 'x-xss-protection': '1; mode=block', 'x-amz-version-id': 'ae37a965-df07-433c-85ff-3d7ac1b462ef', 'date': 'Tue, 12 Nov 2024 07:27:00 GMT'}, 'RetryAttempts': 0}, 'AcceptRanges': 'bytes', 'LastModified': datetime.datetime(2024, 11, 12, 7, 15, 22, tzinfo=tzutc()), 'ContentLength': 525187, 'ETag': '\"a5eeae83d792e40da6c2f9e1eab945fc\"', 'VersionId': 'ae37a965-df07-433c-85ff-3d7ac1b462ef', 'ContentType': 'text/csv', 'Metadata': {}, 'Body': <botocore.response.StreamingBody object at 0x164d58d30>}\n",
      "<botocore.response.StreamingBody object at 0x164d58d30>\n",
      "Dataset loaded successfully:\n",
      "         ph    Hardness        Solids  Chloramines     Sulfate  Conductivity  \\\n",
      "0       NaN  204.890455  20791.318981     7.300212  368.516441    564.308654   \n",
      "1  3.716080  129.422921  18630.057858     6.635246         NaN    592.885359   \n",
      "2  8.099124  224.236259  19909.541732     9.275884         NaN    418.606213   \n",
      "3  8.316766  214.373394  22018.417441     8.059332  356.886136    363.266516   \n",
      "4  9.092223  181.101509  17978.986339     6.546600  310.135738    398.410813   \n",
      "\n",
      "   Organic_carbon  Trihalomethanes  Turbidity  Potability  \n",
      "0       10.379783        86.990970   2.963135           0  \n",
      "1       15.180013        56.329076   4.500656           0  \n",
      "2       16.868637        66.420093   3.055934           0  \n",
      "3       18.436524       100.341674   4.628771           0  \n",
      "4       11.558279        31.997993   4.075075           0  \n"
     ]
    },
    {
     "name": "stderr",
     "output_type": "stream",
     "text": [
      "/Users/fauzanghaza/Applications/miniconda3/envs/MLOps/lib/python3.10/site-packages/urllib3/connectionpool.py:1099: InsecureRequestWarning: Unverified HTTPS request is being made to host '10.34.4.198'. Adding certificate verification is strongly advised. See: https://urllib3.readthedocs.io/en/latest/advanced-usage.html#tls-warnings\n",
      "  warnings.warn(\n"
     ]
    }
   ],
   "source": [
    "try:\n",
    "    response = s3.get_object(Bucket=bucket_name, Key=object_name)\n",
    "    print(response)\n",
    "    dataset_content = response.get('Body')\n",
    "    print(dataset_content)\n",
    "    # Load the dataset into a DataFrame\n",
    "    df = pd.read_csv(dataset_content)\n",
    "    print(\"Dataset loaded successfully:\")\n",
    "    print(df.head())\n",
    "except Exception as e:\n",
    "    print(\"Error fetching dataset from MinIO:\", e)\n"
   ]
  },
  {
   "cell_type": "code",
   "execution_count": 17,
   "metadata": {},
   "outputs": [],
   "source": [
    "mlflow.set_tracking_uri(tracker_url)\n",
    "experiment_name = \"water_portability\"\n",
    "mlflow.set_experiment(experiment_name)\n",
    "\n",
    "data = df.drop('Potability', axis=1)\n",
    "target = df['Potability']\n",
    "X_train, X_test, y_train, y_test = train_test_split(data, target, test_size=0.2, random_state=42)"
   ]
  },
  {
   "cell_type": "code",
   "execution_count": 18,
   "metadata": {},
   "outputs": [
    {
     "name": "stderr",
     "output_type": "stream",
     "text": [
      "2024/11/12 14:27:22 WARNING mlflow.models.model: Model logged without a signature and input example. Please set `input_example` parameter when logging the model to auto infer the model signature.\n",
      "/Users/fauzanghaza/Applications/miniconda3/envs/MLOps/lib/python3.10/site-packages/urllib3/connectionpool.py:1099: InsecureRequestWarning: Unverified HTTPS request is being made to host '10.34.4.198'. Adding certificate verification is strongly advised. See: https://urllib3.readthedocs.io/en/latest/advanced-usage.html#tls-warnings\n",
      "  warnings.warn(\n",
      "/Users/fauzanghaza/Applications/miniconda3/envs/MLOps/lib/python3.10/site-packages/urllib3/connectionpool.py:1099: InsecureRequestWarning: Unverified HTTPS request is being made to host '10.34.4.198'. Adding certificate verification is strongly advised. See: https://urllib3.readthedocs.io/en/latest/advanced-usage.html#tls-warnings\n",
      "  warnings.warn(\n",
      "/Users/fauzanghaza/Applications/miniconda3/envs/MLOps/lib/python3.10/site-packages/urllib3/connectionpool.py:1099: InsecureRequestWarning: Unverified HTTPS request is being made to host '10.34.4.198'. Adding certificate verification is strongly advised. See: https://urllib3.readthedocs.io/en/latest/advanced-usage.html#tls-warnings\n",
      "  warnings.warn(\n",
      "/Users/fauzanghaza/Applications/miniconda3/envs/MLOps/lib/python3.10/site-packages/urllib3/connectionpool.py:1099: InsecureRequestWarning: Unverified HTTPS request is being made to host '10.34.4.198'. Adding certificate verification is strongly advised. See: https://urllib3.readthedocs.io/en/latest/advanced-usage.html#tls-warnings\n",
      "  warnings.warn(\n",
      "/Users/fauzanghaza/Applications/miniconda3/envs/MLOps/lib/python3.10/site-packages/urllib3/connectionpool.py:1099: InsecureRequestWarning: Unverified HTTPS request is being made to host '10.34.4.198'. Adding certificate verification is strongly advised. See: https://urllib3.readthedocs.io/en/latest/advanced-usage.html#tls-warnings\n",
      "  warnings.warn(\n"
     ]
    },
    {
     "name": "stdout",
     "output_type": "stream",
     "text": [
      "Run ID: 516b0878668341e0978e7489b1232b36\n",
      "Model accuracy: 0.6646341463414634\n"
     ]
    },
    {
     "name": "stderr",
     "output_type": "stream",
     "text": [
      "2024/11/12 14:27:23 INFO mlflow.tracking._tracking_service.client: 🏃 View run tasteful-fawn-300 at: http://10.34.4.198:5000/#/experiments/1/runs/516b0878668341e0978e7489b1232b36.\n",
      "2024/11/12 14:27:23 INFO mlflow.tracking._tracking_service.client: 🧪 View experiment at: http://10.34.4.198:5000/#/experiments/1.\n"
     ]
    }
   ],
   "source": [
    "# Start an MLflow run\n",
    "with mlflow.start_run():\n",
    "    # Define model parameters\n",
    "    n_estimators = 100\n",
    "    max_depth = 5\n",
    "    random_state = 42\n",
    "\n",
    "    # Log parameters to MLflow\n",
    "    mlflow.log_param(\"n_estimators\", n_estimators)\n",
    "    mlflow.log_param(\"max_depth\", max_depth)\n",
    "    mlflow.log_param(\"random_state\", random_state)\n",
    "\n",
    "    # Train the model\n",
    "    model = RandomForestClassifier(n_estimators=n_estimators, max_depth=max_depth, random_state=random_state)\n",
    "    model.fit(X_train, y_train)\n",
    "\n",
    "    # Make predictions and calculate accuracy\n",
    "    predictions = model.predict(X_test)\n",
    "    accuracy = accuracy_score(y_test, predictions)\n",
    "\n",
    "    # Log metrics to MLflow\n",
    "    mlflow.log_metric(\"accuracy\", accuracy)\n",
    "\n",
    "    # Log the model artifact to MinIO via MLflow\n",
    "    mlflow.sklearn.log_model(model, \"model\")\n",
    "\n",
    "    # Print Run ID for reference\n",
    "    run_id = mlflow.active_run().info.run_id\n",
    "    print(f\"Run ID: {run_id}\")\n",
    "    print(f\"Model accuracy: {accuracy}\")\n"
   ]
  }
 ],
 "metadata": {
  "kernelspec": {
   "display_name": "MLOps",
   "language": "python",
   "name": "python3"
  },
  "language_info": {
   "codemirror_mode": {
    "name": "ipython",
    "version": 3
   },
   "file_extension": ".py",
   "mimetype": "text/x-python",
   "name": "python",
   "nbconvert_exporter": "python",
   "pygments_lexer": "ipython3",
   "version": "3.10.13"
  }
 },
 "nbformat": 4,
 "nbformat_minor": 2
}
