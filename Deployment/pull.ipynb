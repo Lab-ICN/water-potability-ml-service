{
 "cells": [
  {
   "cell_type": "code",
   "execution_count": null,
   "metadata": {},
   "outputs": [],
   "source": [
    "import os\n",
    "from dotenv import load_dotenv\n",
    "load_dotenv()\n",
    "os.environ[\"MLFLOW_TRACKING_USERNAME\"] = os.getenv(\"MLFLOW_ADMIN_USERNAME\")\n",
    "os.environ[\"MLFLOW_TRACKING_PASSWORD\"] = os.getenv(\"MLFLOW_ADMIN_PASSWORD\")\n",
    "os.environ[\"MLFLOW_TRACKING_URI\"] = os.getenv(\"MLFLOW_URL\")\n",
    "os.environ[\"MLFLOW_S3_IGNORE_TLS\"] = \"true\""
   ]
  },
  {
   "cell_type": "code",
   "execution_count": null,
   "metadata": {},
   "outputs": [],
   "source": [
    "import grpc\n",
    "import water_potability_pb2_grpc as pb2_grpc\n",
    "import water_potability_pb2 as pb2\n",
    "\n",
    "class WaterClient:\n",
    "\n",
    "    def __init__(self, host='127.0.0.1', port=50051):\n",
    "        self.host = host\n",
    "        self.port = port\n",
    "        self.channel = grpc.insecure_channel(f'{self.host}:{self.port}')\n",
    "        self.stub = pb2_grpc.WaterPotabilityServiceStub(self.channel)\n",
    "    \n",
    "    def predict(self, ph, totalDissolveSolids, turbidity):\n",
    "        request = pb2.PredictWaterPotabilityRequest(\n",
    "            ph=ph,\n",
    "            totalDissolveSolids=totalDissolveSolids,\n",
    "            turbidity=turbidity\n",
    "        )\n",
    "        return self.stub.PredictWaterPotability(request)"
   ]
  },
  {
   "cell_type": "code",
   "execution_count": null,
   "metadata": {},
   "outputs": [],
   "source": [
    "client = WaterClient(os.getenv(\"GRPC_SERVER_HOST\"))\n",
    "print(client.predict(\n",
    "    ph = 8.5,\n",
    "    totalDissolveSolids = 15000.0,\n",
    "    turbidity = 2.0,\n",
    "))"
   ]
  },
  {
   "cell_type": "code",
   "execution_count": null,
   "metadata": {},
   "outputs": [],
   "source": [
    "print(client.predict(\n",
    "    ph = 7.2,\n",
    "    totalDissolveSolids = 5000.0,\n",
    "    turbidity = 0.5\n",
    "\n",
    "))"
   ]
  }
 ],
 "metadata": {
  "kernelspec": {
   "display_name": "water-potability-ml-service",
   "language": "python",
   "name": "python3"
  },
  "language_info": {
   "codemirror_mode": {
    "name": "ipython",
    "version": 3
   },
   "file_extension": ".py",
   "mimetype": "text/x-python",
   "name": "python",
   "nbconvert_exporter": "python",
   "pygments_lexer": "ipython3",
   "version": "3.12.11"
  }
 },
 "nbformat": 4,
 "nbformat_minor": 2
}
