{
 "cells": [
  {
   "cell_type": "code",
   "execution_count": 1,
   "metadata": {},
   "outputs": [],
   "source": [
    "from mlflow import MlflowClient\n",
    "import os\n",
    "from dotenv import load_dotenv"
   ]
  },
  {
   "cell_type": "code",
   "execution_count": null,
   "metadata": {},
   "outputs": [],
   "source": [
    "load_dotenv()\n",
    "os.environ[\"MLFLOW_TRACKING_USERNAME\"] = os.getenv(\"MLFLOW_ADMIN_USERNAME\")\n",
    "os.environ[\"MLFLOW_TRACKING_PASSWORD\"] = os.getenv(\"MLFLOW_ADMIN_PASSWORD\")\n",
    "os.environ[\"MLFLOW_TRACKING_URI\"] = os.getenv(\"MLFLOW_URL\")\n",
    "os.environ[\"MLFLOW_S3_IGNORE_TLS\"] = \"true\"\n",
    "\n",
    "client = MlflowClient(tracking_uri=\"http://10.34.4.198:5000\")\n",
    "latest_versions = client.get_latest_versions(name=\"ml_water_potability\", stages=[\"None\"])\n",
    "for version in latest_versions:\n",
    "    print(f\"Model Name: {version.name}, Version: {version.version}, Stage: {version.current_stage}\")\n"
   ]
  },
  {
   "cell_type": "code",
   "execution_count": null,
   "metadata": {},
   "outputs": [],
   "source": [
    "import mlflow.pyfunc\n",
    "\n",
    "model_name = \"ml_water_potability\"\n",
    "model_version = \"latest\"\n",
    "\n",
    "model = mlflow.pyfunc.load_model(model_uri=f\"models:/{model_name}/{model_version}\")"
   ]
  },
  {
   "cell_type": "code",
   "execution_count": null,
   "metadata": {},
   "outputs": [],
   "source": [
    "model.predict([[1,1,1,1,1,1,1,1,1]])"
   ]
  },
  {
   "cell_type": "code",
   "execution_count": 4,
   "metadata": {},
   "outputs": [],
   "source": [
    "def halo():\n",
    "    print(\"halo\")\n",
    "    \n",
    "def oke():\n",
    "    print(\"oke\")"
   ]
  },
  {
   "cell_type": "code",
   "execution_count": 2,
   "metadata": {},
   "outputs": [],
   "source": [
    "import threading"
   ]
  },
  {
   "cell_type": "code",
   "execution_count": 5,
   "metadata": {},
   "outputs": [],
   "source": [
    "t1 = threading.Thread(target=halo)\n",
    "t2 = threading.Thread(target=oke)"
   ]
  },
  {
   "cell_type": "code",
   "execution_count": 6,
   "metadata": {},
   "outputs": [],
   "source": [
    "t1.start()\n",
    "t2.start()"
   ]
  },
  {
   "cell_type": "code",
   "execution_count": 42,
   "metadata": {},
   "outputs": [],
   "source": [
    "import grpc\n",
    "import water_potability_pb2_grpc as pb2_grpc\n",
    "import water_potability_pb2 as pb2\n",
    "\n",
    "class WaterClient(object) :\n",
    "    \n",
    "    def __init__(self):\n",
    "        self.host = 'localhost'\n",
    "        self.server_port = 50051\n",
    "        \n",
    "        self.channel = grpc.insecure_channel(\n",
    "            '{}:{}'.format(self.host, self.server_port)\n",
    "        )\n",
    "        \n",
    "        self.stub = pb2_grpc.WaterPotabilityServiceStub(self.channel)\n",
    "    \n",
    "    def predict(self) :\n",
    "        this_message = pb2.PredictWaterPotabilityRequest(\n",
    "            ph = 2,\n",
    "            totalDissolveSolids = 3,\n",
    "            turbidity = 4\n",
    "            )\n",
    "        return self.stub.PredictWaterPotability(this_message)\n",
    "    \n",
    "if __name__ == '__main__' :\n",
    "    client = WaterClient()\n",
    "    res = client.predict()\n",
    "    print(res)\n",
    "        "
   ]
  }
 ],
 "metadata": {
  "kernelspec": {
   "display_name": "MLOps",
   "language": "python",
   "name": "python3"
  },
  "language_info": {
   "codemirror_mode": {
    "name": "ipython",
    "version": 3
   },
   "file_extension": ".py",
   "mimetype": "text/x-python",
   "name": "python",
   "nbconvert_exporter": "python",
   "pygments_lexer": "ipython3",
   "version": "3.10.13"
  }
 },
 "nbformat": 4,
 "nbformat_minor": 2
}
