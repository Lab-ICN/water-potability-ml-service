{
 "cells": [
  {
   "cell_type": "code",
   "execution_count": 5,
   "metadata": {},
   "outputs": [],
   "source": [
    "import os\n",
    "from dotenv import load_dotenv\n",
    "load_dotenv()\n",
    "os.environ[\"MLFLOW_TRACKING_USERNAME\"] = os.getenv(\"MLFLOW_ADMIN_USERNAME\")\n",
    "os.environ[\"MLFLOW_TRACKING_PASSWORD\"] = os.getenv(\"MLFLOW_ADMIN_PASSWORD\")\n",
    "os.environ[\"MLFLOW_TRACKING_URI\"] = os.getenv(\"MLFLOW_URL\")\n",
    "os.environ[\"MLFLOW_S3_IGNORE_TLS\"] = \"true\""
   ]
  },
  {
   "cell_type": "code",
   "execution_count": null,
   "metadata": {},
   "outputs": [
    {
     "name": "stdout",
     "output_type": "stream",
     "text": [
      "ph: 2\n",
      "totalDissolveSolids: 3\n",
      "turbidity: 4\n",
      "\n",
      "prediction: -1\n",
      "error {\n",
      "  message: \"Model or expected features not loaded\"\n",
      "  code: \"1\"\n",
      "}\n",
      "\n"
     ]
    }
   ],
   "source": [
    "import grpc\n",
    "import water_potability_pb2_grpc as pb2_grpc\n",
    "import water_potability_pb2 as pb2\n",
    "\n",
    "class WaterClient(object) :\n",
    "    \n",
    "    def __init__(self):\n",
    "        self.host = '10.34.4.242'\n",
    "        self.server_port = 50051\n",
    "        \n",
    "        self.channel = grpc.insecure_channel(\n",
    "            '{}:{}'.format(self.host, self.server_port)\n",
    "        )\n",
    "        \n",
    "        self.stub = pb2_grpc.WaterPotabilityServiceStub(self.channel)\n",
    "    \n",
    "    def predict(self) :\n",
    "        this_message = pb2.PredictWaterPotabilityRequest(\n",
    "            ph = 2,\n",
    "            totalDissolveSolids = 3,\n",
    "            turbidity = 4\n",
    "            )\n",
    "        print (this_message)\n",
    "        return self.stub.PredictWaterPotability(this_message)"
   ]
  },
  {
   "cell_type": "code",
   "execution_count": 43,
   "metadata": {},
   "outputs": [
    {
     "name": "stderr",
     "output_type": "stream",
     "text": [
      "Exception in thread Exception in thread Thread-8 (predict):\n",
      "Traceback (most recent call last):\n",
      "  File \"/Users/fauzanghaza/Applications/miniconda3/envs/MLOps/lib/python3.10/threading.py\", line 1016, in _bootstrap_inner\n",
      "Exception in thread Thread-9 (predict):\n",
      "Traceback (most recent call last):\n",
      "  File \"/Users/fauzanghaza/Applications/miniconda3/envs/MLOps/lib/python3.10/threading.py\", line 1016, in _bootstrap_inner\n",
      "Thread-7 (predict):\n",
      "Traceback (most recent call last):\n",
      "  File \"/Users/fauzanghaza/Applications/miniconda3/envs/MLOps/lib/python3.10/threading.py\", line 1016, in _bootstrap_inner\n",
      "Exception in thread Thread-10 (predict):\n",
      "Traceback (most recent call last):\n",
      "  File \"/Users/fauzanghaza/Applications/miniconda3/envs/MLOps/lib/python3.10/threading.py\", line 1016, in _bootstrap_inner\n",
      "Exception in thread Thread-11 (predict):\n",
      "Traceback (most recent call last):\n",
      "  File \"/Users/fauzanghaza/Applications/miniconda3/envs/MLOps/lib/python3.10/threading.py\", line 1016, in _bootstrap_inner\n",
      "    self.run()\n",
      "  File \"/Users/fauzanghaza/Applications/miniconda3/envs/MLOps/lib/python3.10/site-packages/ipykernel/ipkernel.py\", line 766, in run_closure\n",
      "    self.run()\n",
      "  File \"/Users/fauzanghaza/Applications/miniconda3/envs/MLOps/lib/python3.10/site-packages/ipykernel/ipkernel.py\", line 766, in run_closure\n",
      "    self.run()\n",
      "  File \"/Users/fauzanghaza/Applications/miniconda3/envs/MLOps/lib/python3.10/site-packages/ipykernel/ipkernel.py\", line 766, in run_closure\n",
      "    self.run()\n",
      "  File \"/Users/fauzanghaza/Applications/miniconda3/envs/MLOps/lib/python3.10/site-packages/ipykernel/ipkernel.py\", line 766, in run_closure\n",
      "    _threading_Thread_run(self)\n",
      "  File \"/Users/fauzanghaza/Applications/miniconda3/envs/MLOps/lib/python3.10/threading.py\", line 953, in run\n",
      "    _threading_Thread_run(self)\n",
      "  File \"/Users/fauzanghaza/Applications/miniconda3/envs/MLOps/lib/python3.10/threading.py\", line 953, in run\n",
      "    _threading_Thread_run(self)\n",
      "  File \"/Users/fauzanghaza/Applications/miniconda3/envs/MLOps/lib/python3.10/threading.py\", line 953, in run\n",
      "    self.run()\n",
      "  File \"/Users/fauzanghaza/Applications/miniconda3/envs/MLOps/lib/python3.10/site-packages/ipykernel/ipkernel.py\", line 766, in run_closure\n",
      "    self._target(*self._args, **self._kwargs)\n",
      "TypeError: WaterClient.predict() takes 1 positional argument but 3 were given\n",
      "    _threading_Thread_run(self)\n",
      "  File \"/Users/fauzanghaza/Applications/miniconda3/envs/MLOps/lib/python3.10/threading.py\", line 953, in run\n",
      "    _threading_Thread_run(self)\n",
      "  File \"/Users/fauzanghaza/Applications/miniconda3/envs/MLOps/lib/python3.10/threading.py\", line 953, in run\n",
      "    self._target(*self._args, **self._kwargs)\n",
      "TypeError: WaterClient.predict() takes 1 positional argument but 3 were given\n",
      "        self._target(*self._args, **self._kwargs)\n",
      "TypeError: WaterClient.predict() takes 1 positional argument but 3 were given\n",
      "self._target(*self._args, **self._kwargs)\n",
      "TypeError: WaterClient.predict() takes 1 positional argument but 3 were given\n",
      "    self._target(*self._args, **self._kwargs)\n",
      "TypeError: WaterClient.predict() takes 1 positional argument but 3 were given\n"
     ]
    },
    {
     "name": "stdout",
     "output_type": "stream",
     "text": [
      "All threads have completed.\n"
     ]
    }
   ],
   "source": [
    "import threading\n",
    "\n",
    "if __name__ == '__main__':\n",
    "    # Create an instance of WaterClient\n",
    "    client = WaterClient()\n",
    "    \n",
    "    # Create a list to hold threads\n",
    "    threads = []\n",
    "\n",
    "    # Number of threads to run\n",
    "    num_threads = 5\n",
    "\n",
    "    # Create threads to test predict function concurrently\n",
    "    for i in range(num_threads):\n",
    "        thread = threading.Thread(target=client.predict, args=(client, i))\n",
    "        threads.append(thread)\n",
    "        thread.start()\n",
    "\n",
    "    # Wait for all threads to complete\n",
    "    for thread in threads:\n",
    "        thread.join()\n",
    "\n",
    "    print(\"All threads have completed.\")"
   ]
  }
 ],
 "metadata": {
  "kernelspec": {
   "display_name": "MLOps",
   "language": "python",
   "name": "python3"
  },
  "language_info": {
   "codemirror_mode": {
    "name": "ipython",
    "version": 3
   },
   "file_extension": ".py",
   "mimetype": "text/x-python",
   "name": "python",
   "nbconvert_exporter": "python",
   "pygments_lexer": "ipython3",
   "version": "3.10.16"
  }
 },
 "nbformat": 4,
 "nbformat_minor": 2
}
