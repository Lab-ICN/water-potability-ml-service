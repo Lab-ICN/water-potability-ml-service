{
 "cells": [
  {
   "cell_type": "code",
   "execution_count": 1,
   "metadata": {},
   "outputs": [],
   "source": [
    "import os\n",
    "from dotenv import load_dotenv\n",
    "load_dotenv()\n",
    "os.environ[\"MLFLOW_TRACKING_USERNAME\"] = os.getenv(\"MLFLOW_ADMIN_USERNAME\")\n",
    "os.environ[\"MLFLOW_TRACKING_PASSWORD\"] = os.getenv(\"MLFLOW_ADMIN_PASSWORD\")\n",
    "os.environ[\"MLFLOW_TRACKING_URI\"] = os.getenv(\"MLFLOW_URL\")\n",
    "os.environ[\"MLFLOW_S3_IGNORE_TLS\"] = \"true\""
   ]
  },
  {
   "cell_type": "code",
   "execution_count": 2,
   "metadata": {},
   "outputs": [
    {
     "name": "stdout",
     "output_type": "stream",
     "text": [
      "prediction: 1\n",
      "error {\n",
      "  message: \"No error\"\n",
      "  code: \"0\"\n",
      "}\n",
      "\n"
     ]
    }
   ],
   "source": [
    "import grpc\n",
    "import water_potability_pb2_grpc as pb2_grpc\n",
    "import water_potability_pb2 as pb2\n",
    "\n",
    "class WaterClient(object) :\n",
    "    \n",
    "    def __init__(self):\n",
    "        self.host = 'localhost'\n",
    "        self.server_port = 50051\n",
    "        \n",
    "        self.channel = grpc.insecure_channel(\n",
    "            '{}:{}'.format(self.host, self.server_port)\n",
    "        )\n",
    "        \n",
    "        self.stub = pb2_grpc.WaterPotabilityServiceStub(self.channel)\n",
    "    \n",
    "    def predict(self) :\n",
    "        this_message = pb2.PredictWaterPotabilityRequest(\n",
    "            ph = 2,\n",
    "            totalDissolveSolids = 3,\n",
    "            turbidity = 4\n",
    "            )\n",
    "        return self.stub.PredictWaterPotability(this_message)\n",
    "    \n",
    "if __name__ == '__main__' :\n",
    "    client = WaterClient()\n",
    "    res = client.predict()\n",
    "    print(res)\n",
    "        "
   ]
  }
 ],
 "metadata": {
  "kernelspec": {
   "display_name": "MLOps",
   "language": "python",
   "name": "python3"
  },
  "language_info": {
   "codemirror_mode": {
    "name": "ipython",
    "version": 3
   },
   "file_extension": ".py",
   "mimetype": "text/x-python",
   "name": "python",
   "nbconvert_exporter": "python",
   "pygments_lexer": "ipython3",
   "version": "3.10.13"
  }
 },
 "nbformat": 4,
 "nbformat_minor": 2
}
